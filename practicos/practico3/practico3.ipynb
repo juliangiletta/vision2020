{
 "cells": [
  {
   "cell_type": "code",
   "execution_count": 17,
   "metadata": {},
   "outputs": [],
   "source": [
    "import sys\n",
    "import cv2\n",
    "\n",
    "#if(len(sys.argv) > 1):\n",
    "#    filename = sys.argv[1]\n",
    "#else:\n",
    "#    print('Pass a filename as first argument')\n",
    "#    sys.exit(0)\n",
    "    \n",
    "cap = cv2.VideoCapture(\"40px-manosguantes-mostrando-noche.mp4\")\n",
    "delay = cap.get(cv2.CAP_PROP_FPS)\n",
    "framesize = (int(cap.get(cv2.CAP_PROP_FRAME_WIDTH)), int(cap.get(cv2.CAP_PROP_FRAME_HEIGHT)))"
   ]
  },
  {
   "cell_type": "code",
   "execution_count": 18,
   "metadata": {},
   "outputs": [],
   "source": [
    "fourcc = cv2.VideoWriter_fourcc('X', 'V', 'I', 'D')\n",
    "out = cv2.VideoWriter('output.avi', fourcc, delay, framesize)\n",
    "\n",
    "while(cap.isOpened()):\n",
    "    ret, frame = cap.read()\n",
    "    if ret is True:\n",
    "        gray = cv2.cvtColor(frame, cv2.COLOR_BGR2GRAY)\n",
    "        out.write(gray)\n",
    "        cv2.imshow('Image gray ', gray)\n",
    "        if cv2.waitKey(int(delay)) & 0xFF == ord('q'):\n",
    "            break\n",
    "    else:\n",
    "        break\n",
    "            \n",
    "cap.release()\n",
    "out.release()\n",
    "cv2.destroyAllWindows()"
   ]
  }
 ],
 "metadata": {
  "kernelspec": {
   "display_name": "Python 3",
   "language": "python",
   "name": "python3"
  },
  "language_info": {
   "codemirror_mode": {
    "name": "ipython",
    "version": 2
   },
   "file_extension": ".py",
   "mimetype": "text/x-python",
   "name": "python",
   "nbconvert_exporter": "python",
   "pygments_lexer": "ipython2",
   "version": "2.7.17"
  }
 },
 "nbformat": 4,
 "nbformat_minor": 2
}
