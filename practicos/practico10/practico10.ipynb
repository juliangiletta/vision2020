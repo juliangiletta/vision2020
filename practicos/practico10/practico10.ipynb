{
 "cells": [
  {
   "cell_type": "markdown",
   "metadata": {},
   "source": [
    "# Práctico 10: Calibración de camara\n",
    "A. Utilizando el código propuesto calibrar la cámara usando las imágenes del patrón ya capturadas.\n",
    "\n",
    "B. Usando los datos de calibración obtenidos, eliminar la distorción de las imágenes dadas.\n",
    "\n",
    "Ayuda:  cv2.undistort"
   ]
  },
  {
   "cell_type": "code",
   "execution_count": 1,
   "metadata": {},
   "outputs": [],
   "source": [
    "#coding=utf-8\n",
    "\n",
    "import glob\n",
    "import numpy as np\n",
    "import cv2\n",
    "import os   "
   ]
  },
  {
   "cell_type": "code",
   "execution_count": 4,
   "metadata": {},
   "outputs": [
    {
     "name": "stdout",
     "output_type": "stream",
     "text": [
      "[[481.69281248   0.         249.92737322]\n",
      " [  0.         482.00132111 298.32494312]\n",
      " [  0.           0.           1.        ]]\n"
     ]
    }
   ],
   "source": [
    "criteria = (cv2.TERM_CRITERIA_EPS + cv2.TERM_CRITERIA_MAX_ITER, 30, 0.001)\n",
    "\n",
    "\"\"\"\n",
    "objp = np.zeros((np.prod(9*6), 3), np.float32)\n",
    "objp[: , :2] = np.indices(9,6).T.reshape(-1, 2)\n",
    "\"\"\"\n",
    "\n",
    "objp = np.zeros((np.prod((8, 5)), 3), np.float32)\n",
    "objp[:, :2] = np.indices((8, 5)).T.reshape(-1, 2)\n",
    "\n",
    "\n",
    "objpoints = []\n",
    "imgpoints = []\n",
    "\n",
    "images = glob.glob('chess/*.png')\n",
    "\n",
    "for fname in images:\n",
    "    img = cv2.imread(fname)\n",
    "    gray = cv2.cvtColor(img, cv2.COLOR_BGR2GRAY)\n",
    "\n",
    "    ret, corners = cv2.findChessboardCorners(gray, (8, 5), None)\n",
    "\n",
    "    if ret is True:\n",
    "\n",
    "        objpoints.append(objp)\n",
    "        corners2 = cv2.cornerSubPix(gray, corners, (11, 11),  (-1, -1), criteria)\n",
    "        imgpoints.append(corners2)\n",
    "\n",
    "        img = cv2.drawChessboardCorners(img, (8, 5), corners2, ret)\n",
    "\n",
    "cv2.destroyAllWindows()\n",
    "\n",
    "ret, mtx, dist, rvecs, tvecs = cv2.calibrateCamera(objpoints, imgpoints, gray.shape[::-1], None, None)\n",
    "\n",
    "print(mtx)"
   ]
  },
  {
   "cell_type": "code",
   "execution_count": 5,
   "metadata": {},
   "outputs": [],
   "source": [
    "for fname in images:\n",
    "    img = cv2.imread(fname)\n",
    "    name = os.path.relpath(fname, 'chess')\n",
    "    cv2.imwrite('chess/un_' + name, cv2.undistort(img, mtx, dist))"
   ]
  }
 ],
 "metadata": {
  "kernelspec": {
   "display_name": "Python 3",
   "language": "python",
   "name": "python3"
  },
  "language_info": {
   "codemirror_mode": {
    "name": "ipython",
    "version": 2
   },
   "file_extension": ".py",
   "mimetype": "text/x-python",
   "name": "python",
   "nbconvert_exporter": "python",
   "pygments_lexer": "ipython2",
   "version": "2.7.18rc1"
  }
 },
 "nbformat": 4,
 "nbformat_minor": 2
}
