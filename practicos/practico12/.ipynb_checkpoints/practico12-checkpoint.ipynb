{
 "cells": [
  {
   "cell_type": "markdown",
   "metadata": {},
   "source": [
    "# Práctico 12: Clasificación de imágenes usando CNN\n",
    "A. Entrenar un clasificador de dígitos manuscritos.\n",
    "B. Luego capturar una imagen con un dígito escrito por nosotros y clasificarlo usando la red entrenada."
   ]
  },
  {
   "cell_type": "code",
   "execution_count": 1,
   "metadata": {},
   "outputs": [],
   "source": [
    "import tensorflow as tf \n",
    "import matplotlib.pyplot as plt\n",
    "import numpy as np\n",
    "import cv2"
   ]
  },
  {
   "cell_type": "code",
   "execution_count": 27,
   "metadata": {},
   "outputs": [],
   "source": [
    "mnist = tf.keras.datasets.mnist\n",
    "(x_train, y_train), (x_test, y_test) = mnist.load_data()"
   ]
  },
  {
   "cell_type": "code",
   "execution_count": 22,
   "metadata": {},
   "outputs": [
    {
     "data": {
      "image/png": "[encoded data removed]",
      "text/plain": [
       "<matplotlib.figure.Figure at 0x7f6041a76210>"
      ]
     },
     "metadata": {},
     "output_type": "display_data"
    }
   ],
   "source": [
    "for i in range(9):\n",
    "    # define subplot\n",
    "    plt.subplot(330 + 1 + i)\n",
    "    # plot raw pixel data\n",
    "    plt.imshow(x_train[i], cmap='gray')\n",
    "# show the figure\n",
    "plt.show()"
   ]
  },
  {
   "cell_type": "code",
   "execution_count": 23,
   "metadata": {},
   "outputs": [],
   "source": [
    "# Normaliza el dataset de entrenamiento\n",
    "#x_train = tf.keras.utils.normalize(x_train, axis=1)\n",
    "# Normaliza el dataset de test\n",
    "#x_test = tf.keras.utils.normalize(x_test, axis=1)\n",
    "x_train, x_test = x_train/255.0 , x_test/255.0\n",
    "ts=x_train.shape\n",
    "x_train = x_train.reshape(ts[0], ts[1], ts[2], 1)\n",
    "tt = x_test.shape\n",
    "x_test = x_test.reshape(tt[0], tt[1], tt[2], 1)"
   ]
  },
  {
   "cell_type": "code",
   "execution_count": 24,
   "metadata": {},
   "outputs": [],
   "source": [
    "model = tf.keras.models.Sequential()\n",
    "model.add(tf.keras.layers.Conv2D(4, (5, 5), activation=tf.nn.relu, input_shape=(28, 28, 1)))\n",
    "model.add(tf.keras.layers.Conv2D(8, (4, 4), strides=(2, 2), activation=tf.nn.relu))\n",
    "model.add(tf.keras.layers.Conv2D(12, (4, 4), strides=(2, 2), activation=tf.nn.relu))\n",
    "model.add(tf.keras.layers.Flatten())\n",
    "model.add(tf.keras.layers.Dense(200, activation=tf.nn.relu))\n",
    "\n",
    "model.add(tf.keras.layers.Dense(10, activation=tf.nn.softmax))"
   ]
  },
  {
   "cell_type": "code",
   "execution_count": 25,
   "metadata": {},
   "outputs": [],
   "source": [
    "optimizer = tf.keras.optimizers.Adam(decay=.0001)\n",
    "model.compile(optimizer=\"adam\", loss=\"sparse_categorical_crossentropy\", metrics=[\"accuracy\"])"
   ]
  },
  {
   "cell_type": "code",
   "execution_count": 26,
   "metadata": {},
   "outputs": [
    {
     "name": "stdout",
     "output_type": "stream",
     "text": [
      "Epoch 1/5\n",
      "60000/60000 [==============================] - 43s 721us/step - loss: 0.1986 - acc: 0.9414\n",
      "Epoch 2/5\n",
      "60000/60000 [==============================] - 44s 728us/step - loss: 0.0696 - acc: 0.9785\n",
      "Epoch 3/5\n",
      "60000/60000 [==============================] - 45s 753us/step - loss: 0.0499 - acc: 0.9843\n",
      "Epoch 4/5\n",
      "60000/60000 [==============================] - 46s 761us/step - loss: 0.0394 - acc: 0.9875\n",
      "Epoch 5/5\n",
      "60000/60000 [==============================] - 46s 769us/step - loss: 0.0307 - acc: 0.9901\n"
     ]
    },
    {
     "data": {
      "text/plain": [
       "<tensorflow.python.keras.callbacks.History at 0x7f604418a850>"
      ]
     },
     "execution_count": 26,
     "metadata": {},
     "output_type": "execute_result"
    }
   ],
   "source": [
    "model.fit(x=x_train, y=y_train, epochs=5)"
   ]
  },
  {
   "cell_type": "code",
   "execution_count": 27,
   "metadata": {},
   "outputs": [
    {
     "name": "stdout",
     "output_type": "stream",
     "text": [
      "10000/10000 [==============================] - 3s 271us/step\n",
      "Test accuracy: 98.64 %\n"
     ]
    }
   ],
   "source": [
    "test_loss, test_acc = model.evaluate(x=x_test, y=y_test)\n",
    "print 'Test accuracy:', test_acc*100, '%'"
   ]
  },
  {
   "cell_type": "code",
   "execution_count": 28,
   "metadata": {},
   "outputs": [],
   "source": [
    "predictions = model.predict([x_test])"
   ]
  },
  {
   "cell_type": "code",
   "execution_count": 29,
   "metadata": {},
   "outputs": [
    {
     "name": "stdout",
     "output_type": "stream",
     "text": [
      "3\n"
     ]
    },
    {
     "data": {
      "image/png": "[encoded data removed]",
      "text/plain": [
       "<matplotlib.figure.Figure at 0x7f60416d7cd0>"
      ]
     },
     "metadata": {},
     "output_type": "display_data"
    }
   ],
   "source": [
    "print np.argmax(predictions[5000])\n",
    "plt.imshow(x_test[5000].reshape(28,28), cmap=\"gray\")\n",
    "plt.show()"
   ]
  },
  {
   "cell_type": "markdown",
   "metadata": {},
   "source": [
    "Al entrenar y comenzar a hacer pruebas se observo que al ser entrenado todo con numeros en color blanco y fondo negro, no le era posible detectar numeros con otro fondo o color del digito, por ello la solucion propuesta es:\n",
    "\n",
    "* Seleccionar 30.000 imagenes random de entrenamiento, invertir los colores y entrenar con mitad del dataset con fondo negro y digito blanco, y viceversa. \n",
    "\n",
    "EDIT: se probó lo nombrado anteriormente y la red se equivocaba mas. Quedaria pendiente probar extendiendo el dataset con 60mil imagenes mas."
   ]
  },
  {
   "cell_type": "code",
   "execution_count": 32,
   "metadata": {},
   "outputs": [
    {
     "data": {
      "text/plain": [
       "(1, 28, 28, 1)"
      ]
     },
     "execution_count": 32,
     "metadata": {},
     "output_type": "execute_result"
    },
    {
     "data": {
      "image/png": "[encoded data removed]",
      "text/plain": [
       "<matplotlib.figure.Figure at 0x7f604179ed10>"
      ]
     },
     "metadata": {},
     "output_type": "display_data"
    }
   ],
   "source": [
    "im = cv2.imread('num3.png', cv2.IMREAD_GRAYSCALE)\n",
    "im[:] = 255 - im  # Hace el negativo\n",
    "plt.imshow(im, cmap=\"gray\")\n",
    "im = cv2.resize(im, (28, 28))\n",
    "im = im.reshape(1, 28, 28, 1)\n",
    "im = im/np.float32(255)\n",
    "im.shape\n"
   ]
  },
  {
   "cell_type": "code",
   "execution_count": 33,
   "metadata": {
    "scrolled": true
   },
   "outputs": [
    {
     "name": "stdout",
     "output_type": "stream",
     "text": [
      "3\n"
     ]
    },
    {
     "data": {
      "image/png": "[encoded data removed]",
      "text/plain": [
       "<matplotlib.figure.Figure at 0x7f60256a9250>"
      ]
     },
     "metadata": {},
     "output_type": "display_data"
    }
   ],
   "source": [
    "predictions = model.predict([im])\n",
    "print np.argmax(predictions)\n",
    "plt.imshow(im.reshape(28,28), cmap=\"gray\")\n",
    "plt.show()"
   ]
  },
  {
   "cell_type": "code",
   "execution_count": 13,
   "metadata": {},
   "outputs": [
    {
     "name": "stdout",
     "output_type": "stream",
     "text": [
      "[[9.2288938e-06 4.2641797e-04 9.9940300e-01 2.9927009e-05 9.5905840e-08\n",
      "  4.6844036e-08 5.3997635e-08 6.9373724e-05 6.1743951e-05 1.8880489e-07]]\n"
     ]
    }
   ],
   "source": [
    "print(predictions)"
   ]
  }
 ],
 "metadata": {
  "kernelspec": {
   "display_name": "Python 3",
   "language": "python",
   "name": "python3"
  },
  "language_info": {
   "codemirror_mode": {
    "name": "ipython",
    "version": 2
   },
   "file_extension": ".py",
   "mimetype": "text/x-python",
   "name": "python",
   "nbconvert_exporter": "python",
   "pygments_lexer": "ipython2",
   "version": "2.7.18rc1"
  }
 },
 "nbformat": 4,
 "nbformat_minor": 2
}
