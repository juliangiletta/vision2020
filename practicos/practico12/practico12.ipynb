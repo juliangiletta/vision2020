{
 "cells": [
  {
   "cell_type": "code",
   "execution_count": 1,
   "metadata": {},
   "outputs": [],
   "source": [
    "import tensorflow as tf \n",
    "import matplotlib.pyplot as plt\n",
    "import numpy as np\n",
    "import cv2"
   ]
  },
  {
   "cell_type": "code",
   "execution_count": 2,
   "metadata": {},
   "outputs": [],
   "source": [
    "mnist = tf.keras.datasets.mnist\n",
    "(x_train, y_train), (x_test, y_test) = mnist.load_data()"
   ]
  },
  {
   "cell_type": "code",
   "execution_count": 3,
   "metadata": {},
   "outputs": [
    {
     "data": {
      "image/png": "[encoded data removed]",
      "text/plain": [
       "<matplotlib.figure.Figure at 0x7f875801a7d0>"
      ]
     },
     "metadata": {},
     "output_type": "display_data"
    }
   ],
   "source": [
    "x = 255 - x_train[1000,:,:]\n",
    "plt.imshow(x, cmap=\"gray\")\n",
    "plt.show()"
   ]
  },
  {
   "cell_type": "code",
   "execution_count": 4,
   "metadata": {},
   "outputs": [],
   "source": [
    "# Normaliza el dataset de entrenamiento\n",
    "#x_train = tf.keras.utils.normalize(x_train, axis=1)\n",
    "# Normaliza el dataset de test\n",
    "#x_test = tf.keras.utils.normalize(x_test, axis=1)\n",
    "x_train, x_test = x_train/255.0 , x_test/255.0\n",
    "ts=x_train.shape\n",
    "x_train = x_train.reshape(ts[0], ts[1], ts[2], 1)\n",
    "tt = x_test.shape\n",
    "x_test = x_test.reshape(tt[0], tt[1], tt[2], 1)"
   ]
  },
  {
   "cell_type": "code",
   "execution_count": 5,
   "metadata": {},
   "outputs": [],
   "source": [
    "model = tf.keras.models.Sequential()\n",
    "model.add(tf.keras.layers.Conv2D(4, (5, 5), activation=tf.nn.relu, input_shape=(28, 28, 1)))\n",
    "model.add(tf.keras.layers.Conv2D(8, (4, 4), strides=(2, 2), activation=tf.nn.relu))\n",
    "model.add(tf.keras.layers.Conv2D(12, (4, 4), strides=(2, 2), activation=tf.nn.relu))\n",
    "model.add(tf.keras.layers.Flatten())\n",
    "model.add(tf.keras.layers.Dense(200, activation=tf.nn.relu))\n",
    "\n",
    "model.add(tf.keras.layers.Dense(10, activation=tf.nn.softmax))"
   ]
  },
  {
   "cell_type": "code",
   "execution_count": 6,
   "metadata": {},
   "outputs": [],
   "source": [
    "optimizer = tf.keras.optimizers.Adam(decay=.0001)\n",
    "model.compile(optimizer=\"adam\", loss=\"sparse_categorical_crossentropy\", metrics=[\"accuracy\"])"
   ]
  },
  {
   "cell_type": "code",
   "execution_count": 7,
   "metadata": {},
   "outputs": [
    {
     "name": "stdout",
     "output_type": "stream",
     "text": [
      "Epoch 1/5\n",
      "60000/60000 [==============================] - 23s 380us/step - loss: 0.2152 - acc: 0.9353\n",
      "Epoch 2/5\n",
      "60000/60000 [==============================] - 21s 356us/step - loss: 0.0766 - acc: 0.9759\n",
      "Epoch 3/5\n",
      "60000/60000 [==============================] - 22s 366us/step - loss: 0.0548 - acc: 0.9830\n",
      "Epoch 4/5\n",
      "60000/60000 [==============================] - 22s 364us/step - loss: 0.0425 - acc: 0.9865\n",
      "Epoch 5/5\n",
      "60000/60000 [==============================] - 22s 360us/step - loss: 0.0346 - acc: 0.9888\n"
     ]
    },
    {
     "data": {
      "text/plain": [
       "<tensorflow.python.keras.callbacks.History at 0x7f871c5ac310>"
      ]
     },
     "execution_count": 7,
     "metadata": {},
     "output_type": "execute_result"
    }
   ],
   "source": [
    "model.fit(x=x_train, y=y_train, epochs=5)"
   ]
  },
  {
   "cell_type": "code",
   "execution_count": 8,
   "metadata": {},
   "outputs": [
    {
     "name": "stdout",
     "output_type": "stream",
     "text": [
      "10000/10000 [==============================] - 2s 173us/step\n",
      "Test accuracy: 98.6 %\n"
     ]
    }
   ],
   "source": [
    "test_loss, test_acc = model.evaluate(x=x_test, y=y_test)\n",
    "print 'Test accuracy:', test_acc*100, '%'"
   ]
  },
  {
   "cell_type": "code",
   "execution_count": 9,
   "metadata": {},
   "outputs": [],
   "source": [
    "predictions = model.predict([x_test])"
   ]
  },
  {
   "cell_type": "code",
   "execution_count": 10,
   "metadata": {},
   "outputs": [
    {
     "name": "stdout",
     "output_type": "stream",
     "text": [
      "3\n"
     ]
    },
    {
     "data": {
      "image/png": "[encoded data removed]",
      "text/plain": [
       "<matplotlib.figure.Figure at 0x7f875a17c590>"
      ]
     },
     "metadata": {},
     "output_type": "display_data"
    }
   ],
   "source": [
    "print np.argmax(predictions[5000])\n",
    "plt.imshow(x_test[5000].reshape(28,28), cmap=\"gray\")\n",
    "plt.show()"
   ]
  },
  {
   "cell_type": "markdown",
   "metadata": {},
   "source": [
    "Al entrenar y comenzar a hacer pruebas se observo que al ser entrenado todo con numeros en color blanco y fondo negro, no le era posible detectar numeros con otro fondo o color del digito, por ello la solucion propuesta es:\n",
    "\n",
    "* Seleccionar 30.000 imagenes random de entrenamiento, invertir los colores y entrenar con mitad del dataset con fondo negro y digito blanco, y viceversa. "
   ]
  },
  {
   "cell_type": "code",
   "execution_count": 21,
   "metadata": {},
   "outputs": [
    {
     "data": {
      "text/plain": [
       "(1, 28, 28, 1)"
      ]
     },
     "execution_count": 21,
     "metadata": {},
     "output_type": "execute_result"
    },
    {
     "data": {
      "image/png": "[encoded data removed]",
      "text/plain": [
       "<matplotlib.figure.Figure at 0x7f871e7ea2d0>"
      ]
     },
     "metadata": {},
     "output_type": "display_data"
    }
   ],
   "source": [
    "im = cv2.imread('asd9.png', cv2.IMREAD_GRAYSCALE)\n",
    "#im[:] = 255 - im  # Hace el negativo\n",
    "plt.imshow(im, cmap=\"gray\")\n",
    "im = cv2.resize(im, (28, 28))\n",
    "im = im.reshape(1, 28, 28, 1)\n",
    "im = im/np.float32(255)\n",
    "im.shape\n"
   ]
  },
  {
   "cell_type": "code",
   "execution_count": 19,
   "metadata": {
    "scrolled": true
   },
   "outputs": [
    {
     "name": "stdout",
     "output_type": "stream",
     "text": [
      "4\n"
     ]
    },
    {
     "data": {
      "image/png": "[encoded data removed]",
      "text/plain": [
       "<matplotlib.figure.Figure at 0x7f8700243790>"
      ]
     },
     "metadata": {},
     "output_type": "display_data"
    }
   ],
   "source": [
    "predictions = model.predict([im])\n",
    "print np.argmax(predictions)\n",
    "plt.imshow(im.reshape(28,28), cmap=\"gray\")\n",
    "plt.show()"
   ]
  },
  {
   "cell_type": "code",
   "execution_count": null,
   "metadata": {},
   "outputs": [],
   "source": [
    "print(predictions)"
   ]
  },
  {
   "cell_type": "code",
   "execution_count": null,
   "metadata": {},
   "outputs": [],
   "source": []
  }
 ],
 "metadata": {
  "kernelspec": {
   "display_name": "Python 3",
   "language": "python",
   "name": "python3"
  },
  "language_info": {
   "codemirror_mode": {
    "name": "ipython",
    "version": 2
   },
   "file_extension": ".py",
   "mimetype": "text/x-python",
   "name": "python",
   "nbconvert_exporter": "python",
   "pygments_lexer": "ipython2",
   "version": "2.7.18rc1"
  }
 },
 "nbformat": 4,
 "nbformat_minor": 2
}
