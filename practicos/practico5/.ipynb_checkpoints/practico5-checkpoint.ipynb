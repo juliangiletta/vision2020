{
 "cells": [
  {
   "cell_type": "markdown",
   "metadata": {},
   "source": [
    "# Práctico 5 - Rotación + Traslación (o Transformación Euclidiana)\n",
    "A. Crear un método nuevo que aplique una transformación euclidiana, recibiendo los siguientes parámetros:\n",
    "\n",
    "Parámetros\n",
    "* angle: Ángulo\n",
    "* tx: traslación en x\n",
    "* ty: traslación en y\n",
    "\n",
    "Recordar que la transformación euclidiana tiene la siguiente forma:\n",
    "\n",
    "\\\\begin{array}{cc} cos(angle) & sin(angle) & tx \\\\ -sin(angle) & cos(angle) & ty \\end{array}\n",
    "\n",
    "\n",
    "\n",
    "B. Usando como base el programa anterior, escriba un programa que permita seleccionar un rectángulo de una imagen y con la letra “e” aplique una transformación euclidiana a la imagen dentro del rectángulo y la guarde en el disco y sale."
   ]
  },
  {
   "cell_type": "code",
   "execution_count": 14,
   "metadata": {},
   "outputs": [],
   "source": [
    "import numpy as np\n",
    "import cv2"
   ]
  },
  {
   "cell_type": "code",
   "execution_count": 15,
   "metadata": {},
   "outputs": [],
   "source": [
    "drawing = False # true if mouse is pressed\n",
    "ix, iy = -1, -1\n",
    "fx, fx = -1, -1"
   ]
  },
  {
   "cell_type": "code",
   "execution_count": 16,
   "metadata": {},
   "outputs": [],
   "source": [
    "def transf_euclidiana(image, tx, ty, angle_grad, h, w):\n",
    "    \n",
    "    angle_rad = angle_grad * np.pi/180 \n",
    "    \n",
    "    M = np.float32([[np.cos(angle_rad), np.sin(angle_rad), tx],\n",
    "                    [-np.sin(angle_rad), np.cos(angle_rad), ty]])\n",
    "                     \n",
    "    tran_euc = cv2.warpAffine(image, M, (w, h))\n",
    "    return tran_euc"
   ]
  },
  {
   "cell_type": "code",
   "execution_count": 17,
   "metadata": {},
   "outputs": [],
   "source": [
    "def crop_rectangle(event, x, y, flags, param):\n",
    "    global ix, iy, fx, fy, drawing\n",
    "    if event == cv2.EVENT_LBUTTONDOWN:\n",
    "        drawing = True\n",
    "        ix, iy = x, y\n",
    "    elif event == cv2.EVENT_MOUSEMOVE:\n",
    "        if drawing is True:            \n",
    "            fx, fy = x, y\n",
    "    elif event == cv2.EVENT_LBUTTONUP:\n",
    "        drawing = False\n",
    "        cv2.rectangle(img, (ix, iy), (fx, fy), (0, 255, 0) , 1)"
   ]
  },
  {
   "cell_type": "code",
   "execution_count": 20,
   "metadata": {},
   "outputs": [
    {
     "name": "stdout",
     "output_type": "stream",
     "text": [
      "Ingrese el angulo de rotacion expresado en grados sexagesimal: 50\n",
      "Ingrese la traslacion en x: 30\n",
      "Ingrese la traslacion en y: 20\n"
     ]
    }
   ],
   "source": [
    "img = cv2.imread('../practico2/hojas.png', 1)\n",
    "cv2.namedWindow('image')\n",
    "cv2.setMouseCallback('image', crop_rectangle)\n",
    "\n",
    "while(1):\n",
    "    cv2.imshow('image', img)\n",
    "    k = cv2.waitKey(1) & 0xFF\n",
    "    if k == ord('e'):\n",
    "        cv2.destroyWindow(\"image\")\n",
    "        img_rec = img[iy:fy, ix:fx]\n",
    "        (h, w) = (img_rec.shape[0], img_rec.shape[1])\n",
    "        angle = input('Ingrese el angulo de rotacion expresado en grados sexagesimal: ')\n",
    "        tx = int(input('Ingrese la traslacion en x: '))\n",
    "        ty = int(input('Ingrese la traslacion en y: '))\n",
    "        new_img = transf_euclidiana(img_rec, tx, ty, angle, h, w)\n",
    "        cv2.imwrite('resultado1.png', new_img)\n",
    "        cv2.destroyWindow(\"image\")\n",
    "        break\n",
    "    elif k == ord('q'):\n",
    "        break\n",
    "\n",
    "cv2.imshow('Resultado', new_img)\n",
    "cv2.waitKey(0)      \n",
    "cv2.destroyAllWindows()"
   ]
  }
 ],
 "metadata": {
  "kernelspec": {
   "display_name": "Python 3",
   "language": "python",
   "name": "python3"
  },
  "language_info": {
   "codemirror_mode": {
    "name": "ipython",
    "version": 2
   },
   "file_extension": ".py",
   "mimetype": "text/x-python",
   "name": "python",
   "nbconvert_exporter": "python",
   "pygments_lexer": "ipython2",
   "version": "2.7.17"
  }
 },
 "nbformat": 4,
 "nbformat_minor": 2
}
