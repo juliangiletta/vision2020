{
 "cells": [
  {
   "cell_type": "markdown",
   "metadata": {},
   "source": [
    "# Práctico 6 - Transformación de similaridad\n",
    "A. Agregar al método anterior un parámetro para permitir también el escalado de la imagen.\n",
    "\n",
    "Parámetros\n",
    "* angle: Ángulo\n",
    "* tx: traslación en x\n",
    "* ty: traslación en y\n",
    "* s: escala\n",
    "\n",
    "Recordar que la transformación de similaridad tiene la siguiente forma:\n",
    "\n",
    "\\\\begin{array}{cc} s.cos(angle) & s.sin(angle) & tx \\\\ -s.sin(angle) & s.cos(angle) & ty \\end{array}\n",
    "\n",
    "B. Usando como base el programa anterior, escriba un programa que permita seleccionar un rectángulo de una imagen y\n",
    "con la letra “s” aplique una transformación de similaridad a la imagen dentro del rectángulo y la guarde en el disco."
   ]
  },
  {
   "cell_type": "code",
   "execution_count": 1,
   "metadata": {},
   "outputs": [],
   "source": [
    "import numpy as np\n",
    "import cv2"
   ]
  },
  {
   "cell_type": "code",
   "execution_count": 2,
   "metadata": {},
   "outputs": [],
   "source": [
    "drawing = False # true if mouse is pressed\n",
    "ix, iy = -1, -1\n",
    "fx, fx = -1, -1"
   ]
  },
  {
   "cell_type": "code",
   "execution_count": 3,
   "metadata": {},
   "outputs": [],
   "source": [
    "def transf_similaridad(image, tx, ty, angle_grad, h, w, s):\n",
    "    \n",
    "    angle_rad = angle_grad * np.pi/180 \n",
    "    \n",
    "    M = np.float32([[s*np.cos(angle_rad), s*np.sin(angle_rad), tx],\n",
    "                    [-s*np.sin(angle_rad), s*np.cos(angle_rad), ty]])\n",
    "                     \n",
    "    tran_euc = cv2.warpAffine(image, M, (w, h))\n",
    "    return tran_euc"
   ]
  },
  {
   "cell_type": "code",
   "execution_count": 4,
   "metadata": {},
   "outputs": [],
   "source": [
    "def crop_rectangle(event, x, y, flags, param):\n",
    "    global ix, iy, fx, fy, drawing\n",
    "    if event == cv2.EVENT_LBUTTONDOWN:\n",
    "        drawing = True\n",
    "        ix, iy = x, y\n",
    "    elif event == cv2.EVENT_MOUSEMOVE:\n",
    "        if drawing is True:            \n",
    "            fx, fy = x, y\n",
    "    elif event == cv2.EVENT_LBUTTONUP:\n",
    "        drawing = False\n",
    "        cv2.rectangle(img, (ix, iy), (fx, fy), (0, 255, 0) , 1)"
   ]
  },
  {
   "cell_type": "code",
   "execution_count": 8,
   "metadata": {},
   "outputs": [
    {
     "name": "stdout",
     "output_type": "stream",
     "text": [
      "Ingrese el angulo de rotacion expresado en grados sexagesimal: 25\n",
      "Ingrese la traslacion en x: 40\n",
      "Ingrese la traslacion en y: 20\n",
      "Ingrese el factor de escala: 5\n"
     ]
    }
   ],
   "source": [
    "img = cv2.imread('../practico2/hojas.png', 1)\n",
    "cv2.namedWindow('image')\n",
    "cv2.setMouseCallback('image', crop_rectangle)\n",
    "\n",
    "while(1):\n",
    "    cv2.imshow('image', img)\n",
    "    k = cv2.waitKey(1) & 0xFF\n",
    "    if k == ord('s'):\n",
    "        cv2.destroyWindow(\"image\")\n",
    "        img_rec = img[iy:fy, ix:fx]\n",
    "        angle = input('Ingrese el angulo de rotacion expresado en grados sexagesimal: ')\n",
    "        tx = int(input('Ingrese la traslacion en x: '))\n",
    "        ty = int(input('Ingrese la traslacion en y: '))\n",
    "        s = input('Ingrese el factor de escala: ')\n",
    "        (h, w) = (s*img_rec.shape[0], s*img_rec.shape[1])\n",
    "        new_img = transf_similaridad(img_rec, tx, ty, angle, h, w, s)\n",
    "        cv2.imwrite('resultado1.png', new_img)\n",
    "        break\n",
    "    elif k == ord('q'):\n",
    "        break\n",
    "\n",
    "cv2.imshow('Resultado', new_img)\n",
    "cv2.waitKey(0)      \n",
    "cv2.destroyAllWindows()"
   ]
  }
 ],
 "metadata": {
  "kernelspec": {
   "display_name": "Python 3",
   "language": "python",
   "name": "python3"
  },
  "language_info": {
   "codemirror_mode": {
    "name": "ipython",
    "version": 2
   },
   "file_extension": ".py",
   "mimetype": "text/x-python",
   "name": "python",
   "nbconvert_exporter": "python",
   "pygments_lexer": "ipython2",
   "version": "2.7.17"
  }
 },
 "nbformat": 4,
 "nbformat_minor": 2
}
