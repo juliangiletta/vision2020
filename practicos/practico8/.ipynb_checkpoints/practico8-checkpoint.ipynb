{
 "cells": [
  {
   "cell_type": "markdown",
   "metadata": {},
   "source": [
    "# Práctico 7 - Transformación afín - Incrustando imágenes\n",
    "Teniendo en cuenta que una transformación afín se representa con una matriz de 2 × 3 (tiene 6 grados de libertad) y puede ser recuperada con 3 puntos no colineales.\n",
    "\n",
    "A. Crear un método que compute la transformación afín entre los 3 puntos seleccionados y las esquinas de la segunda imagen.\n",
    "B. Usando como base el programa anterior, escriba un programa que con la letra “a” permita seleccionar con el mouse 3 puntos no colineales en una imagen e incruste entre estos puntos seleccionados una segunda imagen.\n",
    "\n",
    "Ayuda:\n",
    "* cv2.getAffineTransform\n",
    "* cv2.warpAffine\n",
    "* Generar una máscara para insertar una imagen en otra"
   ]
  },
  {
   "cell_type": "code",
   "execution_count": 32,
   "metadata": {},
   "outputs": [],
   "source": [
    "import cv2\n",
    "import numpy as np"
   ]
  },
  {
   "cell_type": "code",
   "execution_count": 37,
   "metadata": {},
   "outputs": [],
   "source": [
    "points1 = [[-1, -1], [-1, -1], [-1, -1], [-1, -1]]\n",
    "i = 0"
   ]
  },
  {
   "cell_type": "code",
   "execution_count": 39,
   "metadata": {},
   "outputs": [],
   "source": [
    "def selec_points(event, x, y, flags, param):\n",
    "    global points1, draw, i\n",
    "    \n",
    "    \n",
    "    if event == cv2.EVENT_LBUTTONUP:\n",
    "        if i == 0 :\n",
    "            points1[0] = x, y\n",
    "            cv2.circle(img1_aux, (x, y), 5, (0, 255, 0) , -1)\n",
    "            i = i + 1\n",
    "        elif i == 1 :\n",
    "            points1[1] = x, y\n",
    "            cv2.circle(img1_aux, (x, y), 5, (0, 255, 0) , -1)\n",
    "            i = i + 1\n",
    "        elif i == 2 :\n",
    "            points1[2] = x, y\n",
    "            cv2.circle(img1_aux, (x, y), 5, (0, 255, 0) , -1)\n",
    "            i = i + 1\n",
    "        elif i == 3 :\n",
    "            points1[3] = x, y\n",
    "            cv2.circle(img1_aux, (x, y), 5, (0, 255, 0) , -1)\n",
    "            i = 4\n",
    "            \n"
   ]
  },
  {
   "cell_type": "code",
   "execution_count": 40,
   "metadata": {},
   "outputs": [],
   "source": [
    "def Trans_perspectiva(image, img1):\n",
    "    h, w = image.shape[:2]\n",
    "    pts1 = np.float32([[points1[0]], [points1[1]], [points1[2]], [points1[3]]])\n",
    "    pts2 = np.float32([[0,0], [w, 0], [w,h], [0, h]])\n",
    "    M = cv2.getPerspectiveTransform(pts1, pts2)\n",
    "    final = cv2.warpPerspective(img1, M, (w,h))\n",
    "    return final"
   ]
  },
  {
   "cell_type": "code",
   "execution_count": 43,
   "metadata": {},
   "outputs": [],
   "source": [
    "img1 = cv2.imread('cartel_perspectiva.jpg', 1)\n",
    "img2 = np.zeros((415, 766, 3), np.uint8)\n",
    "\n",
    "\n",
    "img1_aux = img1.copy()\n",
    "cv2.namedWindow('Cartel en ruta')\n",
    "cv2.imshow('Cartel en ruta', img1_aux)\n",
    "\n",
    "while(1):\n",
    "    cv2.imshow('Cartel en ruta', img1_aux)\n",
    "    k = cv2.waitKey(1) & 0xFF\n",
    "    if k == ord('h'):       \n",
    "        cv2.setMouseCallback('Cartel en ruta', selec_points) \n",
    "    elif i == 4:\n",
    "        img_transf = Trans_perspectiva(img2, img1)\n",
    "        cv2.imwrite('Resultado.jpg', img_transf)\n",
    "        cv2.namedWindow('Resultado')\n",
    "        cv2.imshow('Resultado', img_transf) \n",
    "        i = 0\n",
    "    elif k == ord('q'):\n",
    "        break\n",
    "\n",
    "cv2.waitKey(0)      \n",
    "cv2.destroyAllWindows()"
   ]
  }
 ],
 "metadata": {
  "kernelspec": {
   "display_name": "Python 3",
   "language": "python",
   "name": "python3"
  },
  "language_info": {
   "codemirror_mode": {
    "name": "ipython",
    "version": 2
   },
   "file_extension": ".py",
   "mimetype": "text/x-python",
   "name": "python",
   "nbconvert_exporter": "python",
   "pygments_lexer": "ipython2",
   "version": "2.7.18rc1"
  }
 },
 "nbformat": 4,
 "nbformat_minor": 2
}
