{
 "cells": [
  {
   "cell_type": "markdown",
   "metadata": {},
   "source": [
    "# Práctico 9: medición de objetos\n",
    "La siguiente imagen es una foto con diferentes objetos en un mismo plano. Sabiendo que los lados del cuadrado rojo (papel glace) miden 100mm.\n",
    "\n",
    "<img src=\"ej9_referenciacion.png\" alt=\"Drawing\" style=\"width: 200px;\"/>\n",
    "\n",
    "A. Escribir un programa que en forma automática usando solo las medidas conocidas sea\n",
    "capaz de medir algunas de las cosas siguientes:\n",
    "* ancho y alto de la tarjeta,\n",
    "* ancho y alto de la goma o\n",
    "* radio de ambas monedas."
   ]
  },
  {
   "cell_type": "code",
   "execution_count": 1,
   "metadata": {},
   "outputs": [],
   "source": [
    "import cv2\n",
    "import numpy as np"
   ]
  },
  {
   "cell_type": "code",
   "execution_count": 2,
   "metadata": {},
   "outputs": [],
   "source": [
    "points1 = [[85, 167], [402, 219], [394, 527], [41, 506]]\n",
    "i = 0"
   ]
  },
  {
   "cell_type": "code",
   "execution_count": 3,
   "metadata": {},
   "outputs": [],
   "source": [
    "def Trans_perspectiva(image, img1):\n",
    "    h, w = img1.shape[:2] \n",
    "    pts1 = np.float32([[points1[0]], [points1[1]], [points1[2]], [points1[3]]])\n",
    "    print(pts1)\n",
    "    pts2 = np.float32([[0,0], [350, 0], [350,350], [0, 350]])\n",
    "    M = cv2.getPerspectiveTransform(pts1, pts2)\n",
    "    final = cv2.warpPerspective(img1, M, (w,h))\n",
    "    return final"
   ]
  },
  {
   "cell_type": "code",
   "execution_count": null,
   "metadata": {},
   "outputs": [],
   "source": [
    "img1 = cv2.imread('ej9_referenciacion.png', 1)\n",
    "img2 = np.zeros((img1.shape[0], img1.shape[1], 3), np.uint8)\n",
    "\n",
    "img1_aux = img1.copy()\n",
    "img1_aux = cv2.putText( img1_aux , 'Pulse para medir:', ( 0, 30), cv2.FONT_HERSHEY_SIMPLEX, 1, (255, 0, 0), 2 , cv2.LINE_AA)\n",
    "img1_aux = cv2.putText( img1_aux , '1-tarjeta; 2-goma; 3-moneda', ( 0, 65), cv2.FONT_HERSHEY_SIMPLEX, 1, (255, 0, 0), 2 , cv2.LINE_AA)\n",
    "\n",
    "# 350px son 100mm\n",
    "\n",
    "while(1):\n",
    "\n",
    "    cv2.imshow('Seleccionar que quiero medir', img1_aux)\n",
    "    k = cv2.waitKey(0) & 0xFF\n",
    "    img_transf = Trans_perspectiva(img2, img1)\n",
    "    if k == ord('1'):\n",
    "        #ancho... 195 pixeles = 5,57 cm\n",
    "        img_transf = cv2.line(img_transf, (380,30), (575, 27), (255,0,0))\n",
    "        img_transf = cv2.putText( img_transf , 'w=5,57cm', ( 410, 30), cv2.FONT_HERSHEY_SIMPLEX, 1, (255, 0, 0), 2 , cv2.LINE_AA)\n",
    "        #alto... 300 pixeles = 8,57 cm\n",
    "        img_transf = cv2.line(img_transf, (575,30), (575, 330), (255,0,0))\n",
    "        img_transf = cv2.putText( img_transf , 'h=8,57cm', ( 425,165), cv2.FONT_HERSHEY_SIMPLEX, 1, (255, 0, 0), 2 , cv2.LINE_AA)\n",
    "        cv2.imwrite('Resultado.jpg', img_transf)\n",
    "        cv2.namedWindow('Resultado')\n",
    "        cv2.imshow('Resultado', img_transf) \n",
    "\n",
    "    if k == ord('2'):\n",
    "        #ancho... 200 pixeles = 5,71 cm\n",
    "        img_transf = cv2.line(img_transf, (64,413), (264,413), (255,0,0))\n",
    "        img_transf = cv2.putText( img_transf , 'w=5,71cm', (100,413), cv2.FONT_HERSHEY_SIMPLEX, 1, (255, 0, 0), 2 , cv2.LINE_AA)\n",
    "        #alto... 67 pixeles = 1,91 cm\n",
    "        img_transf = cv2.line(img_transf, (265,415), (265,482), (255,0,0))\n",
    "        img_transf = cv2.putText( img_transf , 'h=1,91cm', (265,450), cv2.FONT_HERSHEY_SIMPLEX, 1, (255, 0, 0), 2 , cv2.LINE_AA)\n",
    "        cv2.imwrite('Resultado.jpg', img_transf)\n",
    "        cv2.namedWindow('Resultado')\n",
    "        cv2.imshow('Resultado', img_transf) \n",
    "\n",
    "    if k == ord('3'):\n",
    "        #diametro moneda 1 peso... 80 pixeles = 2,286 cm\n",
    "        img_transf = cv2.line(img_transf, (355,426), (355,466), (255,0,0))\n",
    "        img_transf = cv2.putText( img_transf , 'r=1,14cm', (355,446), cv2.FONT_HERSHEY_SIMPLEX, 1, (255, 0, 0), 2 , cv2.LINE_AA)\n",
    "        #diametro moneda 50... 88 pixeles = 2,514 cm\n",
    "        img_transf = cv2.line(img_transf, (447,378), (447,422), (255,0,0))\n",
    "        img_transf = cv2.putText( img_transf , 'r=1,26cm', (447,400), cv2.FONT_HERSHEY_SIMPLEX, 1, (255, 0, 0), 2 , cv2.LINE_AA)\n",
    "        cv2.imwrite('Resultado.jpg', img_transf)\n",
    "        cv2.namedWindow('Resultado')\n",
    "        cv2.imshow('Resultado', img_transf) \n",
    "    elif k == ord('q'):\n",
    "        break\n",
    "\n",
    "cv2.waitKey(0)      \n",
    "cv2.destroyAllWindows()\n",
    "\n",
    "\n",
    "#puntos del cuadrado de glace [[[ 85. 169.]]  [[402. 219.]] [[396. 524.]] [[ 44. 504.]]]"
   ]
  }
 ],
 "metadata": {
  "kernelspec": {
   "display_name": "Python 3",
   "language": "python",
   "name": "python3"
  },
  "language_info": {
   "codemirror_mode": {
    "name": "ipython",
    "version": 2
   },
   "file_extension": ".py",
   "mimetype": "text/x-python",
   "name": "python",
   "nbconvert_exporter": "python",
   "pygments_lexer": "ipython2",
   "version": "2.7.18rc1"
  }
 },
 "nbformat": 4,
 "nbformat_minor": 2
}
