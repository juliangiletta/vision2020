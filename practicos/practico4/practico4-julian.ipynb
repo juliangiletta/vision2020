{
 "cells": [
  {
   "cell_type": "markdown",
   "metadata": {},
   "source": [
    "# Practico 4 - Manipulación de imágenes\n",
    "\n",
    "Escribir un programa que permita seleccionar un rectángulo de una imagen, luego:\n",
    "\n",
    "* con la letra “g” guarda la imagen dentro del rectángulo en el disco,\n",
    "* con la letra “r” restaura la imagen original y permite realizar nuevamente la selección,\n",
    "* con la “q” finaliza."
   ]
  },
  {
   "cell_type": "code",
   "execution_count": 59,
   "metadata": {},
   "outputs": [],
   "source": [
    "import cv2\n",
    "import numpy as np"
   ]
  },
  {
   "cell_type": "code",
   "execution_count": 60,
   "metadata": {},
   "outputs": [],
   "source": [
    "drawing = False # true if mouse is pressed\n",
    "ix, iy = -1, -1\n",
    "fx, fx = -1, -1"
   ]
  },
  {
   "cell_type": "code",
   "execution_count": 61,
   "metadata": {},
   "outputs": [],
   "source": [
    "def crop_rectangle(event, x, y, flags, param):\n",
    "    global ix, iy, fx, fy, drawing\n",
    "    if event == cv2.EVENT_LBUTTONDOWN:\n",
    "        drawing = True\n",
    "        ix, iy = x, y\n",
    "    elif event == cv2.EVENT_MOUSEMOVE:\n",
    "        if drawing is True:            \n",
    "            fx, fy = x, y\n",
    "    elif event == cv2.EVENT_LBUTTONUP:\n",
    "        drawing = False\n",
    "        cv2.rectangle(img, (ix, iy), (fx, fy), (0, 255, 0) , 1)"
   ]
  },
  {
   "cell_type": "code",
   "execution_count": 62,
   "metadata": {},
   "outputs": [],
   "source": [
    "img = cv2.imread('../practico2/hojas.png', 1)\n",
    "aux_img = img.copy()\n",
    "cv2.namedWindow('image')\n",
    "cv2.setMouseCallback('image', crop_rectangle)\n",
    "\n",
    "while(1):\n",
    "    cv2.imshow('image', img)\n",
    "    k = cv2.waitKey(1) & 0xFF\n",
    "    if k == ord('g'):\n",
    "        crop_img = img[iy:fy, ix:fx]\n",
    "        cv2.imwrite('recorte.png', crop_img)\n",
    "        break\n",
    "    elif k == ord('r'):\n",
    "        img = aux_img.copy()\n",
    "    elif k == ord('q'):\n",
    "        break\n",
    "cv2.destroyAllWindows()"
   ]
  }
 ],
 "metadata": {
  "kernelspec": {
   "display_name": "Python 3",
   "language": "python",
   "name": "python3"
  },
  "language_info": {
   "codemirror_mode": {
    "name": "ipython",
    "version": 2
   },
   "file_extension": ".py",
   "mimetype": "text/x-python",
   "name": "python",
   "nbconvert_exporter": "python",
   "pygments_lexer": "ipython2",
   "version": "2.7.17"
  }
 },
 "nbformat": 4,
 "nbformat_minor": 2
}
