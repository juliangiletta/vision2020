{
 "cells": [
  {
   "cell_type": "markdown",
   "metadata": {},
   "source": [
    "# Práctico 11: Alineación de imágenes usando SIFT\n",
    "\n",
    "* Capturar dos imágenes con diferentes vistas del mismo objeto.\n",
    "* Computar puntos de interés y descriptores en ambas imágenes.\n",
    "* Establecer matches entre ambos conjuntos de descriptores.\n",
    "* Eliminar matches usando criterio de Lowe.\n",
    "* Computar una homografía entre un conjunto de puntos y el otro.\n",
    "* Aplicar la homografía sobre una de las imágenes y guardarla en otra (mezclarla con un alpha de 50 %)."
   ]
  },
  {
   "cell_type": "code",
   "execution_count": 1,
   "metadata": {},
   "outputs": [],
   "source": [
    "import numpy as np\n",
    "import cv2\n",
    "import matplotlib.pyplot as plt"
   ]
  },
  {
   "cell_type": "code",
   "execution_count": 5,
   "metadata": {},
   "outputs": [],
   "source": [
    "MIN_MATCH_COUNT = 10\n",
    "\n",
    "img1 = cv2.imread(\"img12.jpg\")   # Leemos la imagen 1\n",
    "img2 = cv2.imread(\"img11.jpg\")   # Leemos la imagen 2\n",
    "\n",
    "cp_img1 = img1.copy()\n",
    "cp_img2 = img2.copy()\n",
    "\n",
    "dscr = cv2.xfeatures2d.SIFT_create()\n",
    "\n",
    "kp1, des1 = dscr.detectAndCompute(img1, None)\n",
    "kp2, des2 = dscr.detectAndCompute(img2, None)\n",
    "\n",
    "cv2.drawKeypoints(cp_img1, kp1, cp_img1)\n",
    "cv2.drawKeypoints(cp_img2, kp2, cp_img2,) \n",
    "\n",
    "cv2.namedWindow(\"Img1\")\n",
    "cv2.imshow(\"Img1\", cp_img1)\n",
    "cv2.namedWindow(\"Img2\")\n",
    "cv2.imshow(\"Img2\", cp_img2)\n",
    "cv2.waitKey(0)\n",
    "cv2.destroyAllWindows()"
   ]
  },
  {
   "cell_type": "code",
   "execution_count": 6,
   "metadata": {},
   "outputs": [],
   "source": [
    "matcher = cv2.BFMatcher(cv2.NORM_L2)\n",
    "matches = matcher.knnMatch(des1, des2, k=2)\n",
    "\n",
    "# Apply ratio test\n",
    "good = []\n",
    "for m,n in matches:\n",
    "    if m.distance < 0.7*n.distance:\n",
    "        good.append(m)\n",
    "        \n",
    "if(len(good) > MIN_MATCH_COUNT):\n",
    "    src_pts = np.float32([kp1[m.queryIdx].pt for m in good]).reshape(-1, 1, 2)\n",
    "    dst_pts = np.float32([kp2[m.trainIdx].pt for m in good]).reshape(-1, 1, 2)\n",
    "    \n",
    "    H, mask = cv2.findHomography(dst_pts, src_pts, cv2.RANSAC, 5.0)\n",
    "\n",
    "img3 = cv2.drawMatches(img1, kp1, img2, kp2, good, None, flags=cv2.DRAW_MATCHES_FLAGS_NOT_DRAW_SINGLE_POINTS) \n",
    "img3 = cv2.resize(img3, (int(img3.shape[1]/2), int(img3.shape[0]/2)))\n",
    "cv2.imshow(\"Matches\", img3)\n",
    "cv2.waitKey(0)\n",
    "cv2.destroyAllWindows()\n",
    "\n",
    "wimg2 = cv2.warpPerspective(img2, H, img2.shape[:2][::-1])\n",
    "\n",
    "alpha = 0.5\n",
    "blend = np.array(wimg2 * alpha + img1 * (1 - alpha), dtype=np.uint8)\n",
    "        \n",
    "cv2.imshow(\"Resultado\", blend)\n",
    "cv2.waitKey(0)\n",
    "cv2.destroyAllWindows()"
   ]
  }
 ],
 "metadata": {
  "kernelspec": {
   "display_name": "Python 3",
   "language": "python",
   "name": "python3"
  },
  "language_info": {
   "codemirror_mode": {
    "name": "ipython",
    "version": 2
   },
   "file_extension": ".py",
   "mimetype": "text/x-python",
   "name": "python",
   "nbconvert_exporter": "python",
   "pygments_lexer": "ipython2",
   "version": "2.7.18rc1"
  }
 },
 "nbformat": 4,
 "nbformat_minor": 2
}
